{
 "cells": [
  {
   "cell_type": "code",
   "execution_count": 2,
   "metadata": {},
   "outputs": [],
   "source": [
    "\"\"\"Imports.\"\"\"\n",
    "import csv\n",
    "import numpy as np"
   ]
  },
  {
   "cell_type": "code",
   "execution_count": 23,
   "metadata": {},
   "outputs": [],
   "source": [
    "filenames = [\"peak_amplitudes\", \"peak_depths\", \"peak_times\"]\n",
    "for f in filenames:\n",
    "    data = np.load(f + \".npy\").tolist()\n",
    "    csv_file = f + \".csv\"\n",
    "    np.savetxt(csv_file, data[:100])\n",
    "    \n",
    "    # data = [str(x) for x in data]\n",
    "    # with open(csv_file, \"w\") as output:\n",
    "    #     writer = csv.writer(output)\n",
    "    #     writer.writerow(data)"
   ]
  },
  {
   "cell_type": "code",
   "execution_count": null,
   "metadata": {},
   "outputs": [],
   "source": []
  }
 ],
 "metadata": {
  "kernelspec": {
   "display_name": "motion_correction",
   "language": "python",
   "name": "python3"
  },
  "language_info": {
   "codemirror_mode": {
    "name": "ipython",
    "version": 3
   },
   "file_extension": ".py",
   "mimetype": "text/x-python",
   "name": "python",
   "nbconvert_exporter": "python",
   "pygments_lexer": "ipython3",
   "version": "3.9.18"
  }
 },
 "nbformat": 4,
 "nbformat_minor": 2
}
